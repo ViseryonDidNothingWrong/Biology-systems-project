{
 "cells": [
  {
   "cell_type": "code",
   "execution_count": 18,
   "id": "9e1b669b-7381-417b-9edb-a8670476afd9",
   "metadata": {},
   "outputs": [
    {
     "name": "stdout",
     "output_type": "stream",
     "text": [
      "mini test files: \n",
      "mini.json, mini.mat, mini.pickle, mini.yml, mini_cobra.xml, mini_fbc1.xml, mini_fbc2.xml, mini_fbc2.xml.bz2, mini_fbc2.xml.gz\n"
     ]
    },
    {
     "data": {
      "text/plain": [
       "'C:\\\\Users\\\\Fernando\\\\anaconda3\\\\lib\\\\site-packages\\\\cobra\\\\test\\\\data\\\\mini_fbc2.xml'"
      ]
     },
     "execution_count": 18,
     "metadata": {},
     "output_type": "execute_result"
    }
   ],
   "source": [
    "# Ejecución del ejemplo de librería de COBRApy\n",
    "import cobra.test\n",
    "import os\n",
    "from os.path import join\n",
    "\n",
    "data_dir = cobra.test.data_dir\n",
    "\n",
    "print(\"mini test files: \")\n",
    "print(\", \".join(i for i in os.listdir(data_dir) if i.startswith(\"mini\")))\n",
    "\n",
    "textbook_model = cobra.test.create_test_model(\"textbook\")\n",
    "ecoli_model = cobra.test.create_test_model(\"ecoli\")\n",
    "salmonella_model = cobra.test.create_test_model(\"salmonella\")\n",
    "\n",
    "cobra.io.read_sbml_model(join(data_dir, \"mini_fbc2.xml\"))\n",
    "join(data_dir, \"mini_fbc2.xml\")"
   ]
  },
  {
   "cell_type": "code",
   "execution_count": null,
   "id": "34a48dca-0046-483d-b662-123512e44cf5",
   "metadata": {
    "tags": []
   },
   "outputs": [],
   "source": [
    "#Ejecución del modelo metabólico CB\n",
    "import cobra\n",
    "import os\n",
    "from cobra import Model, Reaction, Metabolite \n",
    "from os.path import join\n",
    "modelo = cobra.io.read_sbml_model(join('C:\\\\Users\\\\Fernando\\\\Downloads', \"El_modelo.xml\"))"
   ]
  },
  {
   "cell_type": "code",
   "execution_count": null,
   "id": "c6c87326-aaab-4e3a-b4b4-895513180b9c",
   "metadata": {},
   "outputs": [],
   "source": [
    "print(modelo)"
   ]
  },
  {
   "cell_type": "code",
   "execution_count": null,
   "id": "49eb2e6e-5f27-45a6-9250-bc208ef6de8f",
   "metadata": {},
   "outputs": [],
   "source": [
    "#Optimización de fosfoglucomutasa por su nombre id en el modelo: R_RNX0217\n",
    "Model.objective = 'R_RNX0217'\n",
    "solution1 = Model.optimize()\n",
    "print(solution1)"
   ]
  },
  {
   "cell_type": "code",
   "execution_count": null,
   "id": "8d2b8ca9-7bd7-4c98-af46-c87721f57adb",
   "metadata": {},
   "outputs": [],
   "source": [
    "#Optimización de UDP-Glucosa pirofosforilasa por su nombre EC: 2.7.7.9\n",
    "Model.objective = '2.7.7.9'\n",
    "solution2 = Model.optimize()\n",
    "print(solution2)"
   ]
  },
  {
   "cell_type": "code",
   "execution_count": null,
   "id": "1b166c07-8f4e-49b9-b96e-3fe400c3c6d9",
   "metadata": {},
   "outputs": [],
   "source": [
    "#Optimización de celulosa sintasa por su nombre EC: 2.4.1.12\n",
    "Model.objective = '2.4.1.12'\n",
    "solution3 = Model.optimize()\n",
    "solution3"
   ]
  }
 ],
 "metadata": {
  "kernelspec": {
   "display_name": "Python 3 (ipykernel)",
   "language": "python",
   "name": "python3"
  },
  "language_info": {
   "codemirror_mode": {
    "name": "ipython",
    "version": 3
   },
   "file_extension": ".py",
   "mimetype": "text/x-python",
   "name": "python",
   "nbconvert_exporter": "python",
   "pygments_lexer": "ipython3",
   "version": "3.9.7"
  }
 },
 "nbformat": 4,
 "nbformat_minor": 5
}
